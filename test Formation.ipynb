{
 "cells": [
  {
   "cell_type": "markdown",
   "id": "5dcd355f",
   "metadata": {},
   "source": [
    "# test formation"
   ]
  },
  {
   "cell_type": "markdown",
   "id": "75f77462",
   "metadata": {},
   "source": [
    "## exercise python"
   ]
  },
  {
   "cell_type": "markdown",
   "id": "f40dd36f",
   "metadata": {},
   "source": [
    "### Jeu de hazard"
   ]
  },
  {
   "cell_type": "code",
   "execution_count": null,
   "id": "f4a71abd",
   "metadata": {},
   "outputs": [],
   "source": [
    "import random"
   ]
  },
  {
   "cell_type": "code",
   "execution_count": null,
   "id": "de5e66d0",
   "metadata": {},
   "outputs": [],
   "source": [
    "# initier les valeurs du jeu \n",
    "values = input(\"Entrez un nombre entre 0 et 10: \")\n",
    "result = random.randint(0, 10)"
   ]
  },
  {
   "cell_type": "code",
   "execution_count": null,
   "id": "4efd0aaa",
   "metadata": {},
   "outputs": [],
   "source": [
    "def random_game(values, result):\n",
    "     \n",
    "    error_message = \"Veuillez entrer un nombre entre 0 et 10\"\n",
    "    # verrifier l'entrée des valeurs du joueur\n",
    "    if values.isdigit(): \n",
    "        # trasnformer la str en int\n",
    "        user_input = int(values)   \n",
    "         # verifier si le nombre entrée est bien comprise entre 0 et 10\n",
    "        if 0 < user_input <= 10:\n",
    "            if user_input == result:\n",
    "                print(\"Félicitations, vous êtes l'heureux gagnant du jeu concours !\") \n",
    "                return 500\n",
    "            else:\n",
    "                print(f\"Dommage, ce sera pour une prochaine fois. Le nombre était {result}.\") \n",
    "                return 0\n",
    "        else:\n",
    "            print(error_message) # rénitialiser en cas d'erreur de saisie\n",
    "            return random_game()  \n",
    "    else:\n",
    "        print(error_message)# rénitialiser en cas d'erreur de saisie\n",
    "        return random_game()  "
   ]
  },
  {
   "cell_type": "code",
   "execution_count": null,
   "id": "ff54bcb7",
   "metadata": {},
   "outputs": [],
   "source": [
    "print(f\"vous gagnez {random_game(values, result) } € !!\")"
   ]
  },
  {
   "cell_type": "raw",
   "id": "854c86be",
   "metadata": {},
   "source": [
    "Le joueurs a une chance sur dix de trouver le bon résultat s'il ne fait qu'une seule partie "
   ]
  },
  {
   "cell_type": "markdown",
   "id": "7c44ad07",
   "metadata": {},
   "source": [
    "### Compte à rebours"
   ]
  },
  {
   "cell_type": "code",
   "execution_count": null,
   "id": "432f78ce",
   "metadata": {},
   "outputs": [],
   "source": [
    "def compte_à_rebours() :\n",
    "    user_number = input(\"veuillez entrer un nombre d'opération : \")\n",
    "    if user_number.isdigit() :\n",
    "        user_number = int(user_number)\n",
    "        for i in reversed(range(user_number + 1)):\n",
    "            if i % 5 == 0 : \n",
    "                print(f'il reste {i} opération')\n",
    "    else :\n",
    "        print(' Veulliez entrer un nombre')\n",
    "        return compte_à_rebours()"
   ]
  },
  {
   "cell_type": "code",
   "execution_count": null,
   "id": "8b32b7fa",
   "metadata": {},
   "outputs": [],
   "source": [
    "compte_à_rebours()"
   ]
  },
  {
   "cell_type": "markdown",
   "id": "0efc5403",
   "metadata": {},
   "source": [
    "### Distance 3D"
   ]
  },
  {
   "cell_type": "code",
   "execution_count": null,
   "id": "9773855f",
   "metadata": {},
   "outputs": [],
   "source": [
    "import math"
   ]
  },
  {
   "cell_type": "code",
   "execution_count": null,
   "id": "994188d5",
   "metadata": {},
   "outputs": [],
   "source": [
    "def calc_distance_3D(pointA , pointB):\n",
    "    \n",
    "    xa, ya, za =  pointA\n",
    "    xb,yb,zb = pointB\n",
    "    result = math.sqrt((xb-xa)**2 + (yb-ya)**2 + (zb-za)**2)\n",
    "    return result "
   ]
  },
  {
   "cell_type": "code",
   "execution_count": null,
   "id": "e70fd027",
   "metadata": {},
   "outputs": [],
   "source": [
    "pointtestA = (0,0,0)\n",
    "pointtestB =(1,1,1)   \n",
    "print(f' la distance euclidienne est {calc_distance_3D(pointtestA, pointtestB)}')"
   ]
  },
  {
   "cell_type": "markdown",
   "id": "c1daa618",
   "metadata": {},
   "source": [
    "### Distance de Hamming"
   ]
  },
  {
   "cell_type": "code",
   "execution_count": null,
   "id": "aecb370c",
   "metadata": {},
   "outputs": [],
   "source": [
    "def hamming_distance(a,b) : \n",
    "    \n",
    "    if len(a) != len(b) :\n",
    "        print('Veulliez entrer deux séquences de même longueur') \n",
    "    else :  \n",
    "        result =  sum(seqa != seqb for seqa, seqb in zip(a,b))\n",
    "        return result "
   ]
  },
  {
   "cell_type": "code",
   "execution_count": null,
   "id": "2e3af281",
   "metadata": {},
   "outputs": [],
   "source": [
    "a = input(\"veulliez entrer une séquence d'acide aminé\")    \n",
    "b = input(\"veulliez entrer une autre séquence d'acide aminé\")"
   ]
  },
  {
   "cell_type": "code",
   "execution_count": null,
   "id": "5f1fe844",
   "metadata": {},
   "outputs": [],
   "source": [
    "testa = 'AGWPSGGASAGLAIL'\n",
    "testb = 'IGWPSAGASAGLWIL'\n",
    "testc = 'ATTCATACGTTACGATT'\n",
    "testd = 'ATACTTACGTAACCATT'"
   ]
  },
  {
   "cell_type": "code",
   "execution_count": null,
   "id": "0c9866a1",
   "metadata": {},
   "outputs": [],
   "source": [
    "print(f\"La distance hamming {a} et {b} est égale à {hamming_distance(a,b)}\")\n",
    "print(f\"La distance hamming {testa} et {testb} est égale à {hamming_distance(testa,testb)}\")\n",
    "print(f\"La distance hamming {testc} et {testd} est égale à {hamming_distance(testc,testd)}\")"
   ]
  },
  {
   "cell_type": "markdown",
   "id": "2e135955",
   "metadata": {},
   "source": [
    "### Traducteur chiffre Romains"
   ]
  },
  {
   "cell_type": "code",
   "execution_count": null,
   "id": "a8ab108a",
   "metadata": {},
   "outputs": [],
   "source": [
    "def number_romain():\n",
    "    a = input('veulliez entrer un nombre entre 1 et 3000 :')\n",
    "    a = int(a)\n",
    "    if 1 <= a <= 3000:\n",
    "        convertisseur = []\n",
    "        correspondance = [ (1000, 'M'), (900,'CM'), (500,'D'), (100,'C'), (90,'XC'), (80,'LXXX'), (70,'LXX'), (60,'LX'), (50,'L'), \n",
    "                      (40,'XL'), (30,'XXX'), (20,'XX'), (12, 'XII'), (11, 'XI'), (10,'X'), (9,'IX'), \n",
    "                      (8, 'VIII'), (7, 'VII'), (6,'VI'), (5,'V'), (4,'IV'), (3,'III'), (2,'II'), (1,'I')]\n",
    "\n",
    "        for i, num in correspondance :\n",
    "            while a >= i:\n",
    "                a -= i \n",
    "                convertisseur.append(num)\n",
    "        result = \"\".join(convertisseur)\n",
    "        return  result\n",
    "    else : \n",
    "        print('veuillez entrer un nombre entre 1 et 3000')\n",
    "        return number_romain()"
   ]
  },
  {
   "cell_type": "code",
   "execution_count": null,
   "id": "f3f0e6eb",
   "metadata": {},
   "outputs": [],
   "source": [
    "print(number_romain())"
   ]
  },
  {
   "cell_type": "markdown",
   "id": "0da47f4f",
   "metadata": {},
   "source": [
    "## Bonus "
   ]
  },
  {
   "cell_type": "code",
   "execution_count": null,
   "id": "57386536",
   "metadata": {},
   "outputs": [],
   "source": [
    "import pandas as pd\n",
    "import numpy as np\n",
    "import matplotlib.pyplot as plt\n",
    "import seaborn as sns ; sns.set()\n",
    "\n",
    "url = \"https://raw.githubusercontent.com/murpi/wilddata/master/quests/spotify.zip\"\n",
    "df_music = pd.read_csv(url)\n",
    "df_music.head()"
   ]
  },
  {
   "cell_type": "code",
   "execution_count": null,
   "id": "6360f7d5",
   "metadata": {},
   "outputs": [],
   "source": [
    "grouped_data = df_music.groupby(['genre' , 'key']).size().reset_index()\n",
    "print(grouped_data)\n",
    "\n",
    "pivot_table = grouped_data.pivot(index='genre', columns='key').fillna(0)\n",
    "#print(pivot_table)\n",
    "\n",
    "matrix_corr = pivot_table.corr()\n",
    "\n",
    "print(matrix_corr)"
   ]
  }
 ],
 "metadata": {
  "kernelspec": {
   "display_name": "Python 3 (ipykernel)",
   "language": "python",
   "name": "python3"
  },
  "language_info": {
   "codemirror_mode": {
    "name": "ipython",
    "version": 3
   },
   "file_extension": ".py",
   "mimetype": "text/x-python",
   "name": "python",
   "nbconvert_exporter": "python",
   "pygments_lexer": "ipython3",
   "version": "3.11.5"
  }
 },
 "nbformat": 4,
 "nbformat_minor": 5
}
